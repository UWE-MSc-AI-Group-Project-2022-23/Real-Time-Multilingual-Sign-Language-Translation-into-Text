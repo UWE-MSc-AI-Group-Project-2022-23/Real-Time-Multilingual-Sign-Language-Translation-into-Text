{
 "cells": [
  {
   "cell_type": "code",
   "execution_count": null,
   "metadata": {},
   "outputs": [],
   "source": [
    "import cv2\n",
    "import numpy as np\n",
    "import tensorflow.keras.applications.nasnet as nasnet\n",
    "\n",
    "from tensorflow.keras.preprocessing import image\n",
    "from tensorflow.keras.applications.nasnet import preprocess_input"
   ]
  },
  {
   "cell_type": "code",
   "execution_count": null,
   "metadata": {},
   "outputs": [],
   "source": [
    "base_model = nasnet.NASNetLarge(weights='imagenet')\n",
    "\n",
    "def extract_frame_features(frame):\n",
    "    img = image.img_to_array(frame)\n",
    "    img = np.expand_dims(img, axis=0)\n",
    "    img = preprocess_input(img)\n",
    "\n",
    "    features = base_model.predict(img)\n",
    "\n",
    "    return features.flatten() \n",
    "\n",
    "video_path = './Dataset/test/videos/_fZbAxSSbX4_0-5-rgb_front.mp4'\n",
    "cap = cv2.VideoCapture(video_path)\n",
    "\n",
    "video_frames = []\n",
    "while cap.isOpened():\n",
    "    ret, frame = cap.read()\n",
    "    if not ret:\n",
    "        break\n",
    "\n",
    "    resized_frame = cv2.resize(frame, (331, 331))\n",
    "\n",
    "    video_frames.append(resized_frame)\n",
    "\n",
    "cap.release()\n",
    "print(len(video_frames))\n",
    "\n",
    "video_features = []\n",
    "for frame in video_frames:\n",
    "    features = extract_frame_features(frame)\n",
    "    video_features.append(features)\n",
    "\n",
    "video_features = np.stack(video_features)\n",
    "print(video_features.shape)"
   ]
  },
  {
   "cell_type": "code",
   "execution_count": null,
   "metadata": {},
   "outputs": [],
   "source": [
    "from tensorflow.keras.layers import Dense\n",
    "from tensorflow.keras.models import Model\n",
    "\n",
    "# Load pre-trained NASNetLarge model (excluding the top fully connected layers)\n",
    "base_model = nasnet.NASNetLarge(weights='imagenet', include_top=False)\n",
    "\n",
    "# Freeze layers\n",
    "for layer in base_model.layers:\n",
    "    layer.trainable = False\n",
    "\n",
    "# Add custom layers on top of the pre-trained model\n",
    "x = base_model.output\n",
    "x = GlobalAveragePooling2D()(x)\n",
    "x = Dense(256, activation='relu')(x)\n",
    "output = Dense(num_classes, activation='softmax')(x)  # Replace num_classes with the number of classes in your task\n",
    "\n",
    "# Create the final model\n",
    "model = Model(inputs=base_model.input, outputs=output)\n",
    "\n",
    "# Compile the model\n",
    "model.compile(optimizer='adam', loss='categorical_crossentropy', metrics=['accuracy'])\n",
    "\n",
    "# Print the model summary\n",
    "model.summary()\n"
   ]
  },
  {
   "cell_type": "code",
   "execution_count": null,
   "metadata": {},
   "outputs": [],
   "source": [
    "video_path = './Dataset/test/videos/_fZbAxSSbX4_1-5-rgb_front.mp4'\n",
    "cap = cv2.VideoCapture(video_path)\n",
    "\n",
    "width = int(cap.get(cv2.CAP_PROP_FRAME_WIDTH))\n",
    "height = int(cap.get(cv2.CAP_PROP_FRAME_HEIGHT))\n",
    "fps = cap.get(cv2.CAP_PROP_FPS)\n",
    "\n",
    "fourcc = cv2.VideoWriter_fourcc(*'mp4v')\n",
    "\n",
    "output_path = './output_video.mp4'\n",
    "output = cv2.VideoWriter(output_path, fourcc, fps, (width, height), isColor=False)\n",
    "\n",
    "while cap.isOpened():\n",
    "    ret, frame = cap.read()\n",
    "    if not ret:\n",
    "        break\n",
    "\n",
    "    gray_frame = cv2.cvtColor(frame, cv2.COLOR_BGR2GRAY)\n",
    "\n",
    "    output.write(gray_frame)\n",
    "\n",
    "cap.release()\n",
    "output.release()\n",
    "print('Output video saved successfully')"
   ]
  }
 ],
 "metadata": {
  "kernelspec": {
   "display_name": "base",
   "language": "python",
   "name": "python3"
  },
  "language_info": {
   "codemirror_mode": {
    "name": "ipython",
    "version": 3
   },
   "file_extension": ".py",
   "mimetype": "text/x-python",
   "name": "python",
   "nbconvert_exporter": "python",
   "pygments_lexer": "ipython3",
   "version": "3.9.6"
  },
  "orig_nbformat": 4
 },
 "nbformat": 4,
 "nbformat_minor": 2
}
