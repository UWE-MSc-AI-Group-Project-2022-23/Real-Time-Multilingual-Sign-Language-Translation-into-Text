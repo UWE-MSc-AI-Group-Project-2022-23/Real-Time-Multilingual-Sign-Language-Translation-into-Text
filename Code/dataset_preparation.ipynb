{
 "cells": [
  {
   "cell_type": "code",
   "execution_count": null,
   "metadata": {},
   "outputs": [],
   "source": [
    "# Dataset Preparation\n",
    "\n",
    "import os\n",
    "import shutil\n",
    "import pandas as pd\n",
    "\n",
    "root_directory = './train/Colours'\n",
    "output_directory = './train/videos'\n",
    "\n",
    "print(f\"Root Directory: {root_directory}\")\n",
    "print(f\"Output Directory: {output_directory}\")\n",
    "\n",
    "# Create the 'videos' directory \n",
    "if not os.path.exists(output_directory):\n",
    "    os.makedirs(output_directory)\n",
    "\n",
    "# Lists to store video names and respective words\n",
    "video_names = []\n",
    "words = []\n",
    "\n",
    "for folder_name in os.listdir(root_directory):\n",
    "    print(f\"Processing folder: {folder_name}\")  \n",
    "    if '.' in folder_name:\n",
    "        word = folder_name.split('.')[1]\n",
    "\n",
    "        folder_path = os.path.join(root_directory, folder_name)\n",
    "        print(f\"Processing videos inside: {folder_path}\")  \n",
    "\n",
    "        if os.path.isdir(folder_path):\n",
    "\n",
    "            for video in os.listdir(folder_path):\n",
    "                if video.endswith('.MOV'):\n",
    "                    src_video_path = os.path.join(folder_path, video)\n",
    "                    dest_video_path = os.path.join(output_directory, video)\n",
    "                    shutil.copy2(src_video_path, dest_video_path)\n",
    "                    video_names.append(video)\n",
    "                    words.append(word)\n",
    "                    print(f\"Processed video: {video}\") \n",
    "                else:\n",
    "                    print(f\"Skipped file (not a recognized video format): {video}\")  \n",
    "\n",
    "\n",
    "    else:\n",
    "        print(f\"Folder '{folder_name}' doesn't fit the expected naming scheme. Skipping it.\")\n",
    "\n",
    "df = pd.DataFrame({'video_name': video_names, 'word': words})\n",
    "\n",
    "if not df.empty:\n",
    "    df.to_csv('./train/video_dataset.csv', index=False)\n",
    "    print(\"Dataset saved to 'video_dataset.csv'\")\n",
    "else:\n",
    "    print(\"No data to save!\")\n"
   ]
  }
 ],
 "metadata": {
  "kernelspec": {
   "display_name": "Python 3",
   "language": "python",
   "name": "python3"
  },
  "language_info": {
   "codemirror_mode": {
    "name": "ipython",
    "version": 3
   },
   "file_extension": ".py",
   "mimetype": "text/x-python",
   "name": "python",
   "nbconvert_exporter": "python",
   "pygments_lexer": "ipython3",
   "version": "3.10.8"
  },
  "orig_nbformat": 4
 },
 "nbformat": 4,
 "nbformat_minor": 2
}
