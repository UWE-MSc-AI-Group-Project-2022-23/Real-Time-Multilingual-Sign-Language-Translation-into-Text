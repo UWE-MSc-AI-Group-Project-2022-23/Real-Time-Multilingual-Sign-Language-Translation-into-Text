{
 "cells": [
  {
   "attachments": {},
   "cell_type": "markdown",
   "metadata": {},
   "source": [
    "# IMPORT LIBRARIES"
   ]
  },
  {
   "cell_type": "code",
   "execution_count": 4,
   "metadata": {},
   "outputs": [],
   "source": [
    "import cv2\n",
    "import os\n",
    "import json"
   ]
  },
  {
   "cell_type": "code",
   "execution_count": 6,
   "metadata": {},
   "outputs": [],
   "source": [
    "def process_dataset(dataset_dir):\n",
    "    # Directory in the dataset for videos\n",
    "    video_dir = os.path.join(dataset_dir, 'videos')\n",
    "    # Ensure output directories exist\n",
    "    output_dir_images = os.path.join(dataset_dir, 'images')\n",
    "    output_dir_json = os.path.join(dataset_dir, 'json')\n",
    "    os.makedirs(output_dir_images, exist_ok=True)\n",
    "    os.makedirs(output_dir_json, exist_ok=True)\n",
    "\n",
    "    # Process the first 100 videos in the directory\n",
    "    for video_file in os.listdir(video_dir)[:100]:\n",
    "        video_path = os.path.join(video_dir, video_file)\n",
    "        video_to_frames(video_path, output_dir_images, output_dir_json)\n",
    "\n",
    "def video_to_frames(video_path, output_dir_images, output_dir_json):\n",
    "    video_name = os.path.splitext(os.path.basename(video_path))[0]\n",
    "    cap = cv2.VideoCapture(video_path)\n",
    "\n",
    "    frame_count = 0\n",
    "    output_data = {\"video_name\": video_name, \"frames\": []}\n",
    "\n",
    "    while cap.isOpened():\n",
    "        ret, frame = cap.read()\n",
    "\n",
    "        if not ret:\n",
    "            break\n",
    "\n",
    "        # Saving the image\n",
    "        frame_name = f\"{video_name}_frame{frame_count}.jpg\"\n",
    "        cv2.imwrite(os.path.join(output_dir_images, frame_name), frame)\n",
    "\n",
    "        output_data[\"frames\"].append({\n",
    "            \"frame_number\": frame_count,\n",
    "            \"frame_name\": frame_name\n",
    "        })\n",
    "\n",
    "        frame_count += 1\n",
    "\n",
    "    cap.release()\n",
    "    cv2.destroyAllWindows()\n",
    "\n",
    "    # Write data to a JSON file\n",
    "    with open(os.path.join(output_dir_json, f\"{video_name}.json\"), 'w') as json_file:\n",
    "        json.dump(output_data, json_file, indent=4)\n",
    "\n",
    "# Call the function for the train dataset\n",
    "process_dataset(\"./train\")\n"
   ]
  }
 ],
 "metadata": {
  "kernelspec": {
   "display_name": "Python 3",
   "language": "python",
   "name": "python3"
  },
  "language_info": {
   "codemirror_mode": {
    "name": "ipython",
    "version": 3
   },
   "file_extension": ".py",
   "mimetype": "text/x-python",
   "name": "python",
   "nbconvert_exporter": "python",
   "pygments_lexer": "ipython3",
   "version": "3.10.8"
  },
  "orig_nbformat": 4
 },
 "nbformat": 4,
 "nbformat_minor": 2
}
