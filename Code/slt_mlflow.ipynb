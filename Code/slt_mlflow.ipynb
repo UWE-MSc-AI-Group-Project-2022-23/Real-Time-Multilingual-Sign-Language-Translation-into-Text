{
 "cells": [
  {
   "cell_type": "code",
   "execution_count": null,
   "metadata": {},
   "outputs": [],
   "source": [
    "from mlflow import MLFlow\n",
    "\n",
    "input_json_file = '../Dataset/train.json'\n",
    "output_folder = '../Dataset/train/'\n",
    "# processing_steps = [\"crop\", \"reduce_noise\", \"add_noise\", \"rotate\", \"brightness\", \"contrast\", \"saturation\"]\n",
    "\n",
    "processor = MLFlow(input_json_file, output_folder)\n",
    "vectors_df = processor.process_video_and_extract_features()"
   ]
  },
  {
   "cell_type": "code",
   "execution_count": null,
   "metadata": {},
   "outputs": [],
   "source": [
    "vectors_df.shape"
   ]
  },
  {
   "cell_type": "code",
   "execution_count": null,
   "metadata": {},
   "outputs": [],
   "source": [
    "print(len(vectors_df.features[0]))\n",
    "print(len(vectors_df.features[1]))\n",
    "# print(len(vectors_df.features[2]))\n",
    "\n",
    "print(len(vectors_df.labels[0]))\n",
    "print(len(vectors_df.labels[1]))\n",
    "# print(len(vectors_df.labels[2]))\n"
   ]
  },
  {
   "cell_type": "code",
   "execution_count": null,
   "metadata": {},
   "outputs": [],
   "source": [
    "import tensorflow as tf\n",
    "from keras.layers import Input, LSTM, Dense, Attention, Concatenate, Reshape\n",
    "from keras.models import Model\n",
    "\n",
    "feature_vectors = []\n",
    "feature_vectors.append(vectors_df.features[0])\n",
    "feature_vectors.append(vectors_df.features[1])\n",
    "# feature_vectors.append(vectors_df.features[2])\n",
    "\n",
    "max_sequence_length = max([len(video) for video in feature_vectors])\n",
    "\n",
    "# Padding the sequences\n",
    "padded_sequences = tf.keras.preprocessing.sequence.pad_sequences(feature_vectors, maxlen=max_sequence_length, padding='post', dtype='float32')"
   ]
  },
  {
   "cell_type": "code",
   "execution_count": null,
   "metadata": {},
   "outputs": [],
   "source": [
    "label_vectors = []\n",
    "label_vectors.append(vectors_df.labels[0])\n",
    "label_vectors.append(vectors_df.labels[1])\n",
    "\n",
    "padded_labels = tf.keras.preprocessing.sequence.pad_sequences(label_vectors, maxlen=max_sequence_length, padding='post', dtype='float32')\n"
   ]
  },
  {
   "cell_type": "code",
   "execution_count": null,
   "metadata": {},
   "outputs": [],
   "source": [
    "# Define the input layer with masking\n",
    "video_input = Input(shape=(3, max_sequence_length), batch_size=32, name='video_input')\n",
    "\n",
    "description_input = Input(shape=(3, max_sequence_length), batch_size=32, name='description_input')\n",
    "\n",
    "video_attention = Attention()([video_input, description_input])\n",
    "\n",
    "lstm_video = LSTM(32, return_sequences=True)(video_attention)\n",
    "\n",
    "lstm_description = LSTM(32, return_sequences=True)(description_input)\n",
    "\n",
    "lstm_combined = Concatenate()([lstm_video, lstm_description])\n",
    "\n",
    "lstm_hierarchical = LSTM(32, return_sequences=False)(lstm_combined)\n",
    "\n",
    "output = Dense(max_sequence_length, activation='linear')(lstm_hierarchical)\n",
    "\n",
    "model = Model(inputs=[video_input, description_input], outputs=output)\n",
    "\n",
    "model.compile(loss='mean_squared_error', optimizer='adam', metrics=['mse'])"
   ]
  },
  {
   "cell_type": "code",
   "execution_count": null,
   "metadata": {},
   "outputs": [],
   "source": [
    "from sklearn.model_selection import train_test_split\n",
    "\n",
    "# independent variables\n",
    "ftrs = vectors_df.iloc[:, 1:-1]\n",
    "# dependent variable\n",
    "lbls = vectors_df.iloc[:, -1]\n",
    "\n",
    "# Split the data into train and test sets\n",
    "X_train, X_test, y_train, y_test = train_test_split(ftrs, lbls, test_size=0.2, random_state=42)\n",
    "\n",
    "# Train the model\n",
    "model.fit([X_train, y_train], y_train, batch_size=64, epochs=10)\n",
    "\n",
    "# Evaluate the model\n",
    "loss, mse = model.evaluate([X_test, y_test], y_test)\n",
    "print(f\"Mean Squared Error: {mse}\")"
   ]
  },
  {
   "cell_type": "code",
   "execution_count": null,
   "metadata": {},
   "outputs": [],
   "source": [
    "import pickle\n",
    "import numpy as np\n",
    "\n",
    "# Load the saved tokenizer\n",
    "with open('../Dataset/train/tokenizer.pickle', 'rb') as handle:\n",
    "    tokenizer = pickle.load(handle)\n",
    "\n",
    "# Generate predictions\n",
    "predicted_vectors = model.predict(X_test)\n",
    "\n",
    "# Convert predicted vectors back to text using the tokenizer\n",
    "def vectors_to_text(predicted_vectors):\n",
    "    texts = []\n",
    "    for vector in predicted_vectors:\n",
    "        predicted_indices = np.argmax(vector, axis=-1)\n",
    "        text = tokenizer.sequences_to_texts([predicted_indices])[0]\n",
    "        texts.append(text)\n",
    "    return texts\n",
    "\n",
    "# Convert predicted vectors to text\n",
    "predicted_texts = vectors_to_text(predicted_vectors)\n",
    "\n",
    "# Print the predicted texts\n",
    "for text in predicted_texts:\n",
    "    print(text)\n"
   ]
  }
 ],
 "metadata": {
  "kernelspec": {
   "display_name": "base",
   "language": "python",
   "name": "python3"
  },
  "language_info": {
   "codemirror_mode": {
    "name": "ipython",
    "version": 3
   },
   "file_extension": ".py",
   "mimetype": "text/x-python",
   "name": "python",
   "nbconvert_exporter": "python",
   "pygments_lexer": "ipython3",
   "version": "3.9.6"
  },
  "orig_nbformat": 4
 },
 "nbformat": 4,
 "nbformat_minor": 2
}
