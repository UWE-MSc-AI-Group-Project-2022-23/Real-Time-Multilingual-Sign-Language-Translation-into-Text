{
 "cells": [
  {
   "cell_type": "code",
   "execution_count": null,
   "metadata": {},
   "outputs": [],
   "source": [
    "from mlflow import MLFlow\n",
    "\n",
    "input_json_file = '../Dataset/train.json'\n",
    "output_folder = '../Dataset/train_test/features/'\n",
    "# processing_steps = [\"crop\", \"reduce_noise\", \"add_noise\", \"rotate\", \"brightness\", \"contrast\", \"saturation\"]\n",
    "\n",
    "processor = MLFlow(input_json_file, output_folder)\n",
    "processor.process_video_and_extract_features()"
   ]
  },
  {
   "cell_type": "code",
   "execution_count": null,
   "metadata": {},
   "outputs": [],
   "source": []
  }
 ],
 "metadata": {
  "kernelspec": {
   "display_name": "base",
   "language": "python",
   "name": "python3"
  },
  "language_info": {
   "codemirror_mode": {
    "name": "ipython",
    "version": 3
   },
   "file_extension": ".py",
   "mimetype": "text/x-python",
   "name": "python",
   "nbconvert_exporter": "python",
   "pygments_lexer": "ipython3",
   "version": "3.9.6"
  },
  "orig_nbformat": 4
 },
 "nbformat": 4,
 "nbformat_minor": 2
}
