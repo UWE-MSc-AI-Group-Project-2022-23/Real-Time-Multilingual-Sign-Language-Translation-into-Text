{
 "cells": [
  {
   "cell_type": "code",
   "execution_count": null,
   "metadata": {},
   "outputs": [],
   "source": [
    "import cv2\n",
    "import json\n",
    "import os\n",
    "\n",
    "from preprocess_data import PreprocessData\n",
    "\n",
    "\n",
    "def preprocess_data(input_json_file, output_path, frame_width, frame_height):\n",
    "    dp = PreprocessData()\n",
    "\n",
    "    # Read the JSON file\n",
    "    with open(input_json_file, 'r') as json_file:\n",
    "        data = json.load(json_file)\n",
    "\n",
    "    for file in data:\n",
    "        video_path = file['SENTENCE_FILE_PATH']\n",
    "        output_dir = os.path.join(output_path)\n",
    "        os.makedirs(output_dir, exist_ok=True)\n",
    "        video_name = os.path.split(video_path)[-1]\n",
    "        output_file = os.path.join(output_dir, video_name)\n",
    "\n",
    "        # Open the input video\n",
    "        cap = cv2.VideoCapture(video_path)\n",
    "        fps = cap.get(cv2.CAP_PROP_FPS)\n",
    "        current_width = int(cap.get(cv2.CAP_PROP_FRAME_WIDTH))\n",
    "        current_height = int(cap.get(cv2.CAP_PROP_FRAME_HEIGHT))\n",
    "\n",
    "        # Define the codec for the output video\n",
    "        fourcc = cv2.VideoWriter_fourcc(*'mp4v')\n",
    "        output = cv2.VideoWriter(output_file, fourcc, fps, (frame_width, frame_height))\n",
    "\n",
    "        while cap.isOpened():\n",
    "            ret, frame = cap.read()\n",
    "            if not ret:\n",
    "                break\n",
    "\n",
    "            # Resize the frame to the desired dimensions\n",
    "            new_frame = dp.resize(frame, frame_width, frame_height)\n",
    "\n",
    "            # Write the resized frame to the output video\n",
    "            output.write(new_frame)\n",
    "\n",
    "        # Release the video capture and writer objects\n",
    "        cap.release()\n",
    "        output.release()\n",
    "\n",
    "\n",
    "input_json_file = '../../Dataset/test/test.json'\n",
    "output_path = '../../Dataset/test/Resized/'\n",
    "preprocess_data(input_json_file, output_path, 331, 331)\n"
   ]
  }
 ],
 "metadata": {
  "kernelspec": {
   "display_name": "Python 3",
   "language": "python",
   "name": "python3"
  },
  "language_info": {
   "codemirror_mode": {
    "name": "ipython",
    "version": 3
   },
   "file_extension": ".py",
   "mimetype": "text/x-python",
   "name": "python",
   "nbconvert_exporter": "python",
   "pygments_lexer": "ipython3",
   "version": "3.9.6"
  },
  "orig_nbformat": 4
 },
 "nbformat": 4,
 "nbformat_minor": 2
}
