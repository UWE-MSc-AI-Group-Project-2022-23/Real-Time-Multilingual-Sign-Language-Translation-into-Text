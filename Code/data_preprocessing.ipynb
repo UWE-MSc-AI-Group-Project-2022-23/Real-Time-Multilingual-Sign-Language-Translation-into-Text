{
 "cells": [
  {
   "cell_type": "code",
   "execution_count": 15,
   "metadata": {},
   "outputs": [
    {
     "ename": "error",
     "evalue": "OpenCV(4.7.0) /Users/xperience/GHA-OCV-Python/_work/opencv-python/opencv-python/opencv/modules/imgproc/src/color.simd_helpers.hpp:92: error: (-2:Unspecified error) in function 'cv::impl::(anonymous namespace)::CvtHelper<cv::impl::(anonymous namespace)::Set<3, 4, -1>, cv::impl::(anonymous namespace)::Set<3, -1, -1>, cv::impl::(anonymous namespace)::Set<0, 5, -1>, cv::impl::(anonymous namespace)::NONE>::CvtHelper(cv::InputArray, cv::OutputArray, int) [VScn = cv::impl::(anonymous namespace)::Set<3, 4, -1>, VDcn = cv::impl::(anonymous namespace)::Set<3, -1, -1>, VDepth = cv::impl::(anonymous namespace)::Set<0, 5, -1>, sizePolicy = cv::impl::(anonymous namespace)::NONE]'\n> Invalid number of channels in input image:\n>     'VScn::contains(scn)'\n> where\n>     'scn' is 1\n",
     "output_type": "error",
     "traceback": [
      "\u001b[0;31m---------------------------------------------------------------------------\u001b[0m",
      "\u001b[0;31merror\u001b[0m                                     Traceback (most recent call last)",
      "Cell \u001b[0;32mIn[15], line 73\u001b[0m\n\u001b[1;32m     71\u001b[0m input_json_file \u001b[39m=\u001b[39m \u001b[39m'\u001b[39m\u001b[39m../Dataset/test.json\u001b[39m\u001b[39m'\u001b[39m\n\u001b[1;32m     72\u001b[0m output_path \u001b[39m=\u001b[39m \u001b[39m'\u001b[39m\u001b[39m../Dataset/transformed/\u001b[39m\u001b[39m'\u001b[39m\n\u001b[0;32m---> 73\u001b[0m preprocess_data(input_json_file, output_path, \u001b[39m331\u001b[39;49m, \u001b[39m331\u001b[39;49m)\n",
      "Cell \u001b[0;32mIn[15], line 53\u001b[0m, in \u001b[0;36mpreprocess_data\u001b[0;34m(input_json_file, output_path, frame_width, frame_height)\u001b[0m\n\u001b[1;32m     46\u001b[0m     \u001b[39mbreak\u001b[39;00m\n\u001b[1;32m     48\u001b[0m \u001b[39m# cropped_frame = dp.crop(frame, 300, 0, 680, 720)\u001b[39;00m\n\u001b[1;32m     49\u001b[0m \u001b[39m# resized_frame = dp.resize(cropped_frame, frame_width, frame_height)\u001b[39;00m\n\u001b[1;32m     50\u001b[0m \u001b[39m# noise_reduced_frame = dp.reduce_noise(resized_frame, 10, 7, 21)\u001b[39;00m\n\u001b[1;32m     51\u001b[0m \u001b[39m# noise_added_frame = dp.add_noise(noise_reduced_frame, 'poisson', 0, 1)\u001b[39;00m\n\u001b[1;32m     52\u001b[0m \u001b[39m# transformed_frame = dp.spatial_transformation(noise_added_frame, 0, True, False)\u001b[39;00m\n\u001b[0;32m---> 53\u001b[0m color_jittered_frame \u001b[39m=\u001b[39m dp\u001b[39m.\u001b[39;49mcolor_jitter(frame, \u001b[39m0\u001b[39;49m, \u001b[39m0\u001b[39;49m, \u001b[39m0\u001b[39;49m, \u001b[39m60\u001b[39;49m)\n\u001b[1;32m     55\u001b[0m \u001b[39m# features = extract_frame_features(resized_frame)\u001b[39;00m\n\u001b[1;32m     56\u001b[0m \u001b[39m# video_features.append(features)\u001b[39;00m\n\u001b[1;32m     57\u001b[0m \u001b[39m# video_features = np.stack(video_features)\u001b[39;00m\n\u001b[1;32m     58\u001b[0m \u001b[39m# print(video_features.shape)\u001b[39;00m\n\u001b[1;32m     59\u001b[0m \n\u001b[1;32m     60\u001b[0m \u001b[39m# Write the resized frame to the output video\u001b[39;00m\n\u001b[1;32m     61\u001b[0m frame_name \u001b[39m=\u001b[39m \u001b[39mf\u001b[39m\u001b[39m\"\u001b[39m\u001b[39m{\u001b[39;00mvideo_name\u001b[39m}\u001b[39;00m\u001b[39m_frame\u001b[39m\u001b[39m{\u001b[39;00mframe_count\u001b[39m}\u001b[39;00m\u001b[39m.jpg\u001b[39m\u001b[39m\"\u001b[39m\n",
      "File \u001b[0;32m~/Desktop/MSc Artificial Intelligence/AI Group Project/Real-Time-Multilingual-Sign-Language-Translation-into-Text/Code/data_preprocessing.py:147\u001b[0m, in \u001b[0;36mDataPreprocessing.color_jitter\u001b[0;34m(self, video, brightness, contrast, saturation, hue)\u001b[0m\n\u001b[1;32m    144\u001b[0m     frame \u001b[39m=\u001b[39m cv2\u001b[39m.\u001b[39mmultiply(frame, saturation)\n\u001b[1;32m    146\u001b[0m \u001b[39mif\u001b[39;00m hue \u001b[39m!=\u001b[39m \u001b[39m0\u001b[39m:\n\u001b[0;32m--> 147\u001b[0m     frame \u001b[39m=\u001b[39m cv2\u001b[39m.\u001b[39;49mcvtColor(frame, cv2\u001b[39m.\u001b[39;49mCOLOR_RGB2HSV)\n\u001b[1;32m    148\u001b[0m     frame[:, :, \u001b[39m0\u001b[39m] \u001b[39m+\u001b[39m\u001b[39m=\u001b[39m hue\n\u001b[1;32m    149\u001b[0m     frame \u001b[39m=\u001b[39m cv2\u001b[39m.\u001b[39mcvtColor(frame, cv2\u001b[39m.\u001b[39mCOLOR_HSV2RGB)\n",
      "\u001b[0;31merror\u001b[0m: OpenCV(4.7.0) /Users/xperience/GHA-OCV-Python/_work/opencv-python/opencv-python/opencv/modules/imgproc/src/color.simd_helpers.hpp:92: error: (-2:Unspecified error) in function 'cv::impl::(anonymous namespace)::CvtHelper<cv::impl::(anonymous namespace)::Set<3, 4, -1>, cv::impl::(anonymous namespace)::Set<3, -1, -1>, cv::impl::(anonymous namespace)::Set<0, 5, -1>, cv::impl::(anonymous namespace)::NONE>::CvtHelper(cv::InputArray, cv::OutputArray, int) [VScn = cv::impl::(anonymous namespace)::Set<3, 4, -1>, VDcn = cv::impl::(anonymous namespace)::Set<3, -1, -1>, VDepth = cv::impl::(anonymous namespace)::Set<0, 5, -1>, sizePolicy = cv::impl::(anonymous namespace)::NONE]'\n> Invalid number of channels in input image:\n>     'VScn::contains(scn)'\n> where\n>     'scn' is 1\n"
     ]
    }
   ],
   "source": [
    "import cv2\n",
    "import json\n",
    "import os\n",
    "\n",
    "import numpy as np\n",
    "import tensorflow.keras.applications.nasnet as nasnet\n",
    "\n",
    "from tensorflow.keras.preprocessing import image\n",
    "from tensorflow.keras.applications.nasnet import preprocess_input\n",
    "from data_preprocessing import DataPreprocessing\n",
    "\n",
    "def extract_frame_features(frame):\n",
    "    img = image.img_to_array(frame)\n",
    "    img = np.expand_dims(img, axis=0)\n",
    "    img = preprocess_input(img)\n",
    "\n",
    "    base_model = nasnet.NASNetLarge(weights='imagenet')\n",
    "    features = base_model.predict(img)\n",
    "\n",
    "    return features.flatten()\n",
    "\n",
    "\n",
    "def preprocess_data(input_json_file, output_path, frame_width, frame_height):\n",
    "    \n",
    "    output_dir = os.path.join(output_path)\n",
    "    os.makedirs(output_dir, exist_ok=True)\n",
    "\n",
    "    dp = DataPreprocessing()\n",
    "\n",
    "    # Read the JSON file\n",
    "    with open(input_json_file, 'r') as json_file:\n",
    "        data = json.load(json_file)\n",
    "\n",
    "    for file in data:\n",
    "        video_path = file['SENTENCE_FILE_PATH']\n",
    "        \n",
    "        video_name = os.path.split(video_path)[-1]\n",
    "        frame_count = 0\n",
    "\n",
    "        # Open the input video\n",
    "        cap = cv2.VideoCapture(video_path)\n",
    "\n",
    "        while cap.isOpened():\n",
    "            ret, frame = cap.read()\n",
    "            if not ret:\n",
    "                break\n",
    "\n",
    "            # cropped_frame = dp.crop(frame, 300, 0, 680, 720)\n",
    "            # resized_frame = dp.resize(cropped_frame, frame_width, frame_height)\n",
    "            # noise_reduced_frame = dp.reduce_noise(resized_frame, 10, 7, 21)\n",
    "            # noise_added_frame = dp.add_noise(noise_reduced_frame, 'poisson', 0, 1)\n",
    "            # transformed_frame = dp.spatial_transformation(noise_added_frame, 0, True, False)\n",
    "            color_jittered_frame = dp.color_jitter(frame, 0, 0, 0, 60)\n",
    "\n",
    "            # features = extract_frame_features(resized_frame)\n",
    "            # video_features.append(features)\n",
    "            # video_features = np.stack(video_features)\n",
    "            # print(video_features.shape)\n",
    "\n",
    "            # Write the resized frame to the output video\n",
    "            frame_name = f\"{video_name}_frame{frame_count}.jpg\"\n",
    "            cv2.imwrite(os.path.join(output_dir, frame_name), color_jittered_frame)\n",
    "\n",
    "            frame_count += 1\n",
    "\n",
    "        # Release the video capture and writer objects\n",
    "        cap.release()\n",
    "        break\n",
    "\n",
    "\n",
    "input_json_file = '../Dataset/test.json'\n",
    "output_path = '../Dataset/transformed/'\n",
    "preprocess_data(input_json_file, output_path, 331, 331)\n"
   ]
  },
  {
   "cell_type": "code",
   "execution_count": null,
   "metadata": {},
   "outputs": [],
   "source": []
  }
 ],
 "metadata": {
  "kernelspec": {
   "display_name": "Python 3",
   "language": "python",
   "name": "python3"
  },
  "language_info": {
   "codemirror_mode": {
    "name": "ipython",
    "version": 3
   },
   "file_extension": ".py",
   "mimetype": "text/x-python",
   "name": "python",
   "nbconvert_exporter": "python",
   "pygments_lexer": "ipython3",
   "version": "3.9.6"
  },
  "orig_nbformat": 4
 },
 "nbformat": 4,
 "nbformat_minor": 2
}
