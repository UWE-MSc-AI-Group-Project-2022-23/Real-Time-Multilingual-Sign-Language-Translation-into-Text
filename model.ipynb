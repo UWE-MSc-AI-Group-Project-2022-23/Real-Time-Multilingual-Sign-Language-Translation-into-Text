{
 "cells": [
  {
   "cell_type": "code",
   "execution_count": 1,
   "metadata": {},
   "outputs": [
    {
     "name": "stdout",
     "output_type": "stream",
     "text": [
      "1/1 [==============================] - 2s 2s/step\n",
      "1/1 [==============================] - 0s 198ms/step\n",
      "1/1 [==============================] - 0s 190ms/step\n",
      "1/1 [==============================] - 0s 188ms/step\n",
      "1/1 [==============================] - 0s 180ms/step\n",
      "1/1 [==============================] - 0s 180ms/step\n",
      "1/1 [==============================] - 0s 182ms/step\n",
      "1/1 [==============================] - 0s 184ms/step\n",
      "1/1 [==============================] - 0s 187ms/step\n",
      "1/1 [==============================] - 0s 186ms/step\n",
      "1/1 [==============================] - 0s 187ms/step\n",
      "1/1 [==============================] - 0s 189ms/step\n",
      "1/1 [==============================] - 0s 186ms/step\n",
      "1/1 [==============================] - 0s 207ms/step\n",
      "1/1 [==============================] - 0s 188ms/step\n",
      "1/1 [==============================] - 0s 191ms/step\n",
      "1/1 [==============================] - 0s 187ms/step\n",
      "1/1 [==============================] - 0s 192ms/step\n",
      "1/1 [==============================] - 0s 193ms/step\n",
      "1/1 [==============================] - 0s 190ms/step\n",
      "1/1 [==============================] - 0s 191ms/step\n",
      "1/1 [==============================] - 0s 186ms/step\n",
      "1/1 [==============================] - 0s 195ms/step\n",
      "1/1 [==============================] - 0s 196ms/step\n",
      "1/1 [==============================] - 0s 191ms/step\n",
      "1/1 [==============================] - 0s 201ms/step\n",
      "1/1 [==============================] - 0s 210ms/step\n",
      "1/1 [==============================] - 0s 216ms/step\n",
      "1/1 [==============================] - 0s 236ms/step\n",
      "1/1 [==============================] - 0s 234ms/step\n",
      "1/1 [==============================] - 0s 220ms/step\n",
      "1/1 [==============================] - 0s 222ms/step\n",
      "1/1 [==============================] - 0s 217ms/step\n",
      "1/1 [==============================] - 0s 216ms/step\n",
      "1/1 [==============================] - 0s 219ms/step\n",
      "1/1 [==============================] - 0s 224ms/step\n",
      "1/1 [==============================] - 0s 222ms/step\n",
      "1/1 [==============================] - 0s 229ms/step\n",
      "1/1 [==============================] - 0s 219ms/step\n",
      "1/1 [==============================] - 0s 225ms/step\n",
      "1/1 [==============================] - 0s 224ms/step\n",
      "1/1 [==============================] - 0s 228ms/step\n",
      "1/1 [==============================] - 0s 227ms/step\n",
      "1/1 [==============================] - 0s 223ms/step\n",
      "1/1 [==============================] - 0s 213ms/step\n",
      "1/1 [==============================] - 0s 220ms/step\n",
      "1/1 [==============================] - 0s 219ms/step\n",
      "(47, 1000)\n"
     ]
    }
   ],
   "source": [
    "import tensorflow.keras.applications.nasnet as nasnet\n",
    "from tensorflow.keras.preprocessing import image\n",
    "from tensorflow.keras.applications.nasnet import preprocess_input\n",
    "import numpy as np\n",
    "\n",
    "# Load pre-trained NASNetLarge model (excluding the top fully connected layers)\n",
    "base_model = nasnet.NASNetLarge(weights='imagenet')\n",
    "\n",
    "# Function to extract features from a video frame\n",
    "def extract_frame_features(frame):\n",
    "    img = image.img_to_array(frame)\n",
    "    img = np.expand_dims(img, axis=0)\n",
    "    img = preprocess_input(img)  # Preprocess input frame\n",
    "\n",
    "    features = base_model.predict(img)  # Extract features using NASNetLarge model\n",
    "\n",
    "    return features.flatten()  # Flatten the features to a 1D array\n",
    "\n",
    "# Rest of your code for video frame extraction and feature extraction\n",
    "\n",
    "import cv2\n",
    "\n",
    "video_path = './Dataset/test/videos/_fZbAxSSbX4_0-5-rgb_front.mp4'\n",
    "cap = cv2.VideoCapture(video_path)\n",
    "\n",
    "video_frames = []\n",
    "while cap.isOpened():\n",
    "    ret, frame = cap.read()\n",
    "    if not ret:\n",
    "        break\n",
    "\n",
    "    # Pre-processing: Resize the frame to a fixed size\n",
    "    resized_frame = cv2.resize(frame, (331, 331))  # Replace width and height with your desired values\n",
    "\n",
    "    video_frames.append(resized_frame)\n",
    "\n",
    "cap.release()\n",
    "\n",
    "\n",
    "video_features = []\n",
    "for frame in video_frames:\n",
    "    features = extract_frame_features(frame)\n",
    "    video_features.append(features)\n",
    "\n",
    "video_features = np.stack(video_features)  # Stack the features into a numpy array\n",
    "print(video_features.shape)  # Print the shape of extracted features\n"
   ]
  },
  {
   "cell_type": "code",
   "execution_count": 2,
   "metadata": {},
   "outputs": [],
   "source": [
    "# for frame_features in video_features:\n",
    "#     print(frame_features)"
   ]
  },
  {
   "cell_type": "code",
   "execution_count": 3,
   "metadata": {},
   "outputs": [
    {
     "data": {
      "image/png": "[encoded data removed]",
      "text/plain": [
       "<Figure size 640x480 with 1 Axes>"
      ]
     },
     "metadata": {},
     "output_type": "display_data"
    }
   ],
   "source": [
    "import matplotlib.pyplot as plt\n",
    "from sklearn.decomposition import PCA\n",
    "\n",
    "# Apply PCA to reduce the dimensionality of the features to 2 dimensions\n",
    "pca = PCA(n_components=2)\n",
    "reduced_features = pca.fit_transform(video_features)\n",
    "\n",
    "# Plot the reduced features\n",
    "plt.scatter(reduced_features[:, 0], reduced_features[:, 1])\n",
    "plt.xlabel('Principal Component 1')\n",
    "plt.ylabel('Principal Component 2')\n",
    "plt.title('Visualization of Extracted Features')\n",
    "plt.show()\n"
   ]
  },
  {
   "cell_type": "code",
   "execution_count": 5,
   "metadata": {},
   "outputs": [],
   "source": [
    "import cv2\n",
    "\n",
    "video_path = './Dataset/test/videos/_fZbAxSSbX4_1-5-rgb_front.mp4'\n",
    "cap = cv2.VideoCapture(video_path)\n",
    "\n",
    "# Get video properties (width, height, FPS)\n",
    "width = int(cap.get(cv2.CAP_PROP_FRAME_WIDTH))\n",
    "height = int(cap.get(cv2.CAP_PROP_FRAME_HEIGHT))\n",
    "fps = cap.get(cv2.CAP_PROP_FPS)\n",
    "\n",
    "# Define the codec for the output video file\n",
    "fourcc = cv2.VideoWriter_fourcc(*'mp4v')\n",
    "\n",
    "# Create VideoWriter object to save the grayscale frames as a video\n",
    "output_path = './output_video.mp4'\n",
    "output = cv2.VideoWriter(output_path, fourcc, fps, (width, height), isColor=False)\n",
    "\n",
    "while cap.isOpened():\n",
    "    ret, frame = cap.read()\n",
    "    if not ret:\n",
    "        break\n",
    "\n",
    "    # Convert the frame to grayscale\n",
    "    gray_frame = cv2.cvtColor(frame, cv2.COLOR_BGR2GRAY)\n",
    "\n",
    "    # Write the grayscale frame to the output video file\n",
    "    output.write(gray_frame)\n",
    "\n",
    "cap.release()\n",
    "output.release()\n",
    "print('Output video saved successfully')\n"
   ]
  },
  {
   "cell_type": "code",
   "execution_count": null,
   "metadata": {},
   "outputs": [],
   "source": []
  }
 ],
 "metadata": {
  "kernelspec": {
   "display_name": "base",
   "language": "python",
   "name": "python3"
  },
  "language_info": {
   "codemirror_mode": {
    "name": "ipython",
    "version": 3
   },
   "file_extension": ".py",
   "mimetype": "text/x-python",
   "name": "python",
   "nbconvert_exporter": "python",
   "pygments_lexer": "ipython3",
   "version": "3.9.6"
  },
  "orig_nbformat": 4
 },
 "nbformat": 4,
 "nbformat_minor": 2
}
